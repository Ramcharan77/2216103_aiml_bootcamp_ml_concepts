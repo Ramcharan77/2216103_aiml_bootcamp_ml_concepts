{
  "nbformat": 4,
  "nbformat_minor": 0,
  "metadata": {
    "colab": {
      "name": "string_CountVectorizer.ipynb",
      "provenance": [],
      "authorship_tag": "ABX9TyMvJ4XnbuYJMbVt1lhsdtoz",
      "include_colab_link": true
    },
    "kernelspec": {
      "name": "python3",
      "display_name": "Python 3"
    },
    "language_info": {
      "name": "python"
    }
  },
  "cells": [
    {
      "cell_type": "markdown",
      "metadata": {
        "id": "view-in-github",
        "colab_type": "text"
      },
      "source": [
        "<a href=\"https://colab.research.google.com/github/Ramcharan77/2216103_aiml_bootcamp_ml_concepts/blob/main/string_CountVectorizer.ipynb\" target=\"_parent\"><img src=\"https://colab.research.google.com/assets/colab-badge.svg\" alt=\"Open In Colab\"/></a>"
      ]
    },
    {
      "cell_type": "code",
      "execution_count": 1,
      "metadata": {
        "colab": {
          "base_uri": "https://localhost:8080/"
        },
        "id": "Psp_-5PkMPxz",
        "outputId": "c069715e-176a-4b30-a2aa-1a5fddd54672"
      },
      "outputs": [
        {
          "output_type": "execute_result",
          "data": {
            "text/plain": [
              "CountVectorizer()"
            ]
          },
          "metadata": {},
          "execution_count": 1
        }
      ],
      "source": [
        "import pandas as pd\n",
        "#Bag of words (Bow)-sklearn\n",
        "documents =['hello,how are you?',\n",
        "            'Win money win from home',\n",
        "            'Call me now',\n",
        "            'Hello Call hello you tomorrow?']\n",
        "from sklearn.feature_extraction.text import CountVectorizer\n",
        "cv=CountVectorizer()\n",
        "cv.fit(documents)"
      ]
    },
    {
      "cell_type": "code",
      "source": [
        "n=cv.get_feature_names()\n",
        "print(n)"
      ],
      "metadata": {
        "colab": {
          "base_uri": "https://localhost:8080/"
        },
        "id": "7Bp4cFFcMRz1",
        "outputId": "fea46f1b-f267-4194-eed5-5a4c099436d4"
      },
      "execution_count": 2,
      "outputs": [
        {
          "output_type": "stream",
          "name": "stdout",
          "text": [
            "['are', 'call', 'from', 'hello', 'home', 'how', 'me', 'money', 'now', 'tomorrow', 'win', 'you']\n"
          ]
        },
        {
          "output_type": "stream",
          "name": "stderr",
          "text": [
            "/usr/local/lib/python3.7/dist-packages/sklearn/utils/deprecation.py:87: FutureWarning: Function get_feature_names is deprecated; get_feature_names is deprecated in 1.0 and will be removed in 1.2. Please use get_feature_names_out instead.\n",
            "  warnings.warn(msg, category=FutureWarning)\n"
          ]
        }
      ]
    },
    {
      "cell_type": "code",
      "source": [
        "doc_array=cv.transform(documents).toarray()\n",
        "print(doc_array)\n"
      ],
      "metadata": {
        "colab": {
          "base_uri": "https://localhost:8080/"
        },
        "id": "DY4FGYztMW11",
        "outputId": "c5bee549-5aa0-4688-a51c-f117cad4927f"
      },
      "execution_count": 3,
      "outputs": [
        {
          "output_type": "stream",
          "name": "stdout",
          "text": [
            "[[1 0 0 1 0 1 0 0 0 0 0 1]\n",
            " [0 0 1 0 1 0 0 1 0 0 2 0]\n",
            " [0 1 0 0 0 0 1 0 1 0 0 0]\n",
            " [0 1 0 2 0 0 0 0 0 1 0 1]]\n"
          ]
        }
      ]
    },
    {
      "cell_type": "code",
      "source": [
        "#converting this array into dataframe \n",
        "freq_table=pd.DataFrame(data=doc_array,columns=n)"
      ],
      "metadata": {
        "id": "gb5nnRWxMZju"
      },
      "execution_count": 4,
      "outputs": []
    },
    {
      "cell_type": "code",
      "source": [
        "print(freq_table)"
      ],
      "metadata": {
        "colab": {
          "base_uri": "https://localhost:8080/"
        },
        "id": "8GbizMwoMd-I",
        "outputId": "4d1b83ac-8df8-4fc2-b974-f0506529839d"
      },
      "execution_count": 5,
      "outputs": [
        {
          "output_type": "stream",
          "name": "stdout",
          "text": [
            "   are  call  from  hello  home  how  me  money  now  tomorrow  win  you\n",
            "0    1     0     0      1     0    1   0      0    0         0    0    1\n",
            "1    0     0     1      0     1    0   0      1    0         0    2    0\n",
            "2    0     1     0      0     0    0   1      0    1         0    0    0\n",
            "3    0     1     0      2     0    0   0      0    0         1    0    1\n"
          ]
        }
      ]
    },
    {
      "cell_type": "code",
      "source": [
        ""
      ],
      "metadata": {
        "id": "7v14yo0OMk_D"
      },
      "execution_count": 5,
      "outputs": []
    }
  ]
}